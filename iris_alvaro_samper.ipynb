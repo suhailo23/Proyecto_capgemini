{
 "cells": [
  {
   "cell_type": "code",
   "execution_count": 2,
   "id": "440ca7de",
   "metadata": {},
   "outputs": [],
   "source": [
    "#Imports\n",
    "import pandas as pd\n",
    "import numpy as np\n",
    "\n",
    "import seaborn as sns\n",
    "import matplotlib.pyplot as plt\n",
    "%matplotlib inline \n",
    "\n",
    "\n",
    "#sklearn\n",
    "from sklearn.preprocessing import StandardScaler\n",
    "from sklearn.model_selection import train_test_split,GridSearchCV\n",
    "from sklearn.utils import shuffle\n",
    "from sklearn.decomposition import PCA \n",
    "from sklearn.metrics import accuracy_score,r2_score,plot_confusion_matrix,classification_report\n",
    "\n",
    "from sklearn.tree import DecisionTreeClassifier\n",
    "from sklearn.linear_model import LogisticRegression\n",
    "from sklearn.svm import SVC\n",
    "from sklearn.ensemble import RandomForestClassifier\n",
    "from sklearn.neighbors import KNeighborsClassifier\n",
    "from sklearn.naive_bayes import GaussianNB"
   ]
  },
  {
   "cell_type": "markdown",
   "id": "ea27d31e",
   "metadata": {},
   "source": [
    "### Empezamos viendo como se nos presenta el dataset"
   ]
  },
  {
   "cell_type": "code",
   "execution_count": 3,
   "id": "7db61e6a",
   "metadata": {},
   "outputs": [
    {
     "data": {
      "text/html": [
       "<div>\n",
       "<style scoped>\n",
       "    .dataframe tbody tr th:only-of-type {\n",
       "        vertical-align: middle;\n",
       "    }\n",
       "\n",
       "    .dataframe tbody tr th {\n",
       "        vertical-align: top;\n",
       "    }\n",
       "\n",
       "    .dataframe thead th {\n",
       "        text-align: right;\n",
       "    }\n",
       "</style>\n",
       "<table border=\"1\" class=\"dataframe\">\n",
       "  <thead>\n",
       "    <tr style=\"text-align: right;\">\n",
       "      <th></th>\n",
       "      <th>Sepal.Length</th>\n",
       "      <th>Sepal.Width</th>\n",
       "      <th>Petal.Length</th>\n",
       "      <th>Petal.Width</th>\n",
       "      <th>Species</th>\n",
       "    </tr>\n",
       "  </thead>\n",
       "  <tbody>\n",
       "    <tr>\n",
       "      <th>0</th>\n",
       "      <td>5.1</td>\n",
       "      <td>3.5</td>\n",
       "      <td>1.4</td>\n",
       "      <td>0.2</td>\n",
       "      <td>setosa</td>\n",
       "    </tr>\n",
       "    <tr>\n",
       "      <th>1</th>\n",
       "      <td>4.9</td>\n",
       "      <td>3.0</td>\n",
       "      <td>1.4</td>\n",
       "      <td>0.2</td>\n",
       "      <td>setosa</td>\n",
       "    </tr>\n",
       "    <tr>\n",
       "      <th>2</th>\n",
       "      <td>4.7</td>\n",
       "      <td>3.2</td>\n",
       "      <td>1.3</td>\n",
       "      <td>0.2</td>\n",
       "      <td>setosa</td>\n",
       "    </tr>\n",
       "    <tr>\n",
       "      <th>3</th>\n",
       "      <td>4.6</td>\n",
       "      <td>3.1</td>\n",
       "      <td>1.5</td>\n",
       "      <td>0.2</td>\n",
       "      <td>setosa</td>\n",
       "    </tr>\n",
       "    <tr>\n",
       "      <th>4</th>\n",
       "      <td>5.0</td>\n",
       "      <td>3.6</td>\n",
       "      <td>1.4</td>\n",
       "      <td>0.2</td>\n",
       "      <td>setosa</td>\n",
       "    </tr>\n",
       "    <tr>\n",
       "      <th>5</th>\n",
       "      <td>5.4</td>\n",
       "      <td>3.9</td>\n",
       "      <td>1.7</td>\n",
       "      <td>0.4</td>\n",
       "      <td>setosa</td>\n",
       "    </tr>\n",
       "    <tr>\n",
       "      <th>6</th>\n",
       "      <td>4.6</td>\n",
       "      <td>3.4</td>\n",
       "      <td>1.4</td>\n",
       "      <td>0.3</td>\n",
       "      <td>setosa</td>\n",
       "    </tr>\n",
       "    <tr>\n",
       "      <th>7</th>\n",
       "      <td>5.0</td>\n",
       "      <td>3.4</td>\n",
       "      <td>1.5</td>\n",
       "      <td>0.2</td>\n",
       "      <td>setosa</td>\n",
       "    </tr>\n",
       "    <tr>\n",
       "      <th>8</th>\n",
       "      <td>4.4</td>\n",
       "      <td>2.9</td>\n",
       "      <td>1.4</td>\n",
       "      <td>0.2</td>\n",
       "      <td>setosa</td>\n",
       "    </tr>\n",
       "    <tr>\n",
       "      <th>9</th>\n",
       "      <td>4.9</td>\n",
       "      <td>3.1</td>\n",
       "      <td>1.5</td>\n",
       "      <td>0.1</td>\n",
       "      <td>setosa</td>\n",
       "    </tr>\n",
       "  </tbody>\n",
       "</table>\n",
       "</div>"
      ],
      "text/plain": [
       "   Sepal.Length  Sepal.Width  Petal.Length  Petal.Width Species\n",
       "0           5.1          3.5           1.4          0.2  setosa\n",
       "1           4.9          3.0           1.4          0.2  setosa\n",
       "2           4.7          3.2           1.3          0.2  setosa\n",
       "3           4.6          3.1           1.5          0.2  setosa\n",
       "4           5.0          3.6           1.4          0.2  setosa\n",
       "5           5.4          3.9           1.7          0.4  setosa\n",
       "6           4.6          3.4           1.4          0.3  setosa\n",
       "7           5.0          3.4           1.5          0.2  setosa\n",
       "8           4.4          2.9           1.4          0.2  setosa\n",
       "9           4.9          3.1           1.5          0.1  setosa"
      ]
     },
     "execution_count": 3,
     "metadata": {},
     "output_type": "execute_result"
    }
   ],
   "source": [
    "data=pd.read_csv(\"./iris.csv\")\n",
    "data.head(10)"
   ]
  },
  {
   "cell_type": "code",
   "execution_count": 4,
   "id": "36d00447",
   "metadata": {},
   "outputs": [
    {
     "name": "stdout",
     "output_type": "stream",
     "text": [
      "Nombre de las características['Sepal.Length' 'Sepal.Width' 'Petal.Length' 'Petal.Width']\n",
      "Nombre de al columna de la variable objetivo -> Species\n"
     ]
    }
   ],
   "source": [
    "#Información básica:\n",
    "print(\"Nombre de las características{}\".format(data.columns.values[:-1]))\n",
    "print(\"Nombre de al columna de la variable objetivo -> {}\".format(data.columns.values[-1]))"
   ]
  },
  {
   "cell_type": "code",
   "execution_count": 5,
   "id": "03d3ee94",
   "metadata": {},
   "outputs": [
    {
     "name": "stdout",
     "output_type": "stream",
     "text": [
      "<class 'pandas.core.frame.DataFrame'>\n",
      "RangeIndex: 150 entries, 0 to 149\n",
      "Data columns (total 5 columns):\n",
      " #   Column        Non-Null Count  Dtype  \n",
      "---  ------        --------------  -----  \n",
      " 0   Sepal.Length  150 non-null    float64\n",
      " 1   Sepal.Width   150 non-null    float64\n",
      " 2   Petal.Length  150 non-null    float64\n",
      " 3   Petal.Width   150 non-null    float64\n",
      " 4   Species       150 non-null    object \n",
      "dtypes: float64(4), object(1)\n",
      "memory usage: 6.0+ KB\n"
     ]
    }
   ],
   "source": [
    "#Identificadas las columnas y la variable objetivo, veamos información útil del dataset\n",
    "data.info()"
   ]
  },
  {
   "cell_type": "markdown",
   "id": "bc0d68d6",
   "metadata": {},
   "source": [
    "### Comenzamos con la exploración de los datos"
   ]
  },
  {
   "cell_type": "markdown",
   "id": "90282c9a",
   "metadata": {},
   "source": [
    "En primer lugar para poder hacer un buen análisis debemos estar seguros de que contamos con suficientes ejemplos para cada variable objetivo"
   ]
  },
  {
   "cell_type": "code",
   "execution_count": 6,
   "id": "04757257",
   "metadata": {},
   "outputs": [
    {
     "data": {
      "text/plain": [
       "Text(0, 0.5, 'Frecuencia')"
      ]
     },
     "execution_count": 6,
     "metadata": {},
     "output_type": "execute_result"
    },
    {
     "data": {
      "image/png": "[encoded data removed]",
      "text/plain": [
       "<Figure size 432x288 with 1 Axes>"
      ]
     },
     "metadata": {
      "needs_background": "light"
     },
     "output_type": "display_data"
    }
   ],
   "source": [
    "plt.hist(data[\"Species\"])\n",
    "plt.title(\"Distribución de los datos\")\n",
    "plt.xlabel(\"Tipo de flor\")\n",
    "plt.ylabel(\"Frecuencia\")"
   ]
  },
  {
   "cell_type": "markdown",
   "id": "1bc977b2",
   "metadata": {},
   "source": [
    "Vemos que tenemos suficientes datos de cada tipo y podemos continuar sin hacer ningún arreglo"
   ]
  },
  {
   "cell_type": "markdown",
   "id": "6ecf36dc",
   "metadata": {},
   "source": [
    "Veamos ahora una distribución de la clasificación de las especies dependiendo del valor de sus características, además podremos ver de forma simple si presentan mucha varianza"
   ]
  },
  {
   "cell_type": "code",
   "execution_count": 7,
   "id": "ebb76974",
   "metadata": {},
   "outputs": [
    {
     "data": {
      "image/png": "[encoded data removed]",
      "text/plain": [
       "<Figure size 648x216 with 3 Axes>"
      ]
     },
     "metadata": {
      "needs_background": "light"
     },
     "output_type": "display_data"
    },
    {
     "data": {
      "image/png": "[encoded data removed]",
      "text/plain": [
       "<Figure size 648x216 with 3 Axes>"
      ]
     },
     "metadata": {
      "needs_background": "light"
     },
     "output_type": "display_data"
    },
    {
     "data": {
      "image/png": "[encoded data removed]",
      "text/plain": [
       "<Figure size 648x216 with 3 Axes>"
      ]
     },
     "metadata": {
      "needs_background": "light"
     },
     "output_type": "display_data"
    },
    {
     "data": {
      "image/png": "[encoded data removed]",
      "text/plain": [
       "<Figure size 648x216 with 3 Axes>"
      ]
     },
     "metadata": {
      "needs_background": "light"
     },
     "output_type": "display_data"
    }
   ],
   "source": [
    "for columna in data.drop([\"Species\"],axis=1).columns.values.tolist():\n",
    "    g= sns.FacetGrid(data, col=\"Species\")\n",
    "    g.map(plt.hist, columna ,bins=10)"
   ]
  },
  {
   "cell_type": "markdown",
   "id": "4ccb7d4c",
   "metadata": {},
   "source": [
    "Veamos ahora si hay correlación entre algunas variables"
   ]
  },
  {
   "cell_type": "code",
   "execution_count": 8,
   "id": "9e2c1cb2",
   "metadata": {},
   "outputs": [
    {
     "data": {
      "text/plain": [
       "<AxesSubplot:>"
      ]
     },
     "execution_count": 8,
     "metadata": {},
     "output_type": "execute_result"
    },
    {
     "data": {
      "image/png": "[encoded data removed]",
      "text/plain": [
       "<Figure size 720x360 with 2 Axes>"
      ]
     },
     "metadata": {
      "needs_background": "light"
     },
     "output_type": "display_data"
    }
   ],
   "source": [
    "plt.figure(figsize=(10,5))\n",
    "sns.heatmap(data.corr(), annot=True, cmap=\"coolwarm\")"
   ]
  },
  {
   "cell_type": "markdown",
   "id": "5111f652",
   "metadata": {},
   "source": [
    "Vemos que sepal width(anchura del sépalo) es la variable más independiente, por lo que seguramente no haga falta que trabajemos con todas las variables. Las variables con las que trabajaremos lo decidiremos más adelante"
   ]
  },
  {
   "cell_type": "markdown",
   "id": "46aece38",
   "metadata": {},
   "source": [
    "### Preprocesamiento de los datos"
   ]
  },
  {
   "cell_type": "markdown",
   "id": "a5ce6035",
   "metadata": {},
   "source": [
    "En primer lugar vamos a convertir la variable objetivo a enteros para que sea más fácil trabajar con ella."
   ]
  },
  {
   "cell_type": "code",
   "execution_count": 9,
   "id": "f663f37f",
   "metadata": {},
   "outputs": [],
   "source": [
    "indice={\"setosa\":0,\"versicolor\":1,\"virginica\":2}\n",
    "for i in range(len(data)):\n",
    "    if data.loc[i,\"Species\"]==\"setosa\":\n",
    "        data.loc[i,\"Species\"]=int(0)\n",
    "    elif data.loc[i,\"Species\"]==\"versicolor\":\n",
    "        data.loc[i,\"Species\"]=int(1)\n",
    "    elif data.loc[i,\"Species\"]==\"virginica\":\n",
    "        data.loc[i,\"Species\"]=int(2)"
   ]
  },
  {
   "cell_type": "code",
   "execution_count": 10,
   "id": "e58941cb",
   "metadata": {},
   "outputs": [],
   "source": [
    "datos=data.columns.values[:-1].tolist()\n",
    "target=data.columns.values[-1:].tolist()"
   ]
  },
  {
   "cell_type": "code",
   "execution_count": 11,
   "id": "ca819165",
   "metadata": {},
   "outputs": [],
   "source": [
    "X,y=shuffle(data[datos],data[target],random_state=10)"
   ]
  },
  {
   "cell_type": "markdown",
   "id": "98af33d2",
   "metadata": {},
   "source": [
    "#### ACP (selección de variables)"
   ]
  },
  {
   "cell_type": "markdown",
   "id": "cb150c2f",
   "metadata": {},
   "source": [
    "Vamos a probar con dos componentes y con 3 para ver cual nos conviene coger en relación accuracy del resultado con número de variables escogidas."
   ]
  },
  {
   "cell_type": "code",
   "execution_count": 12,
   "id": "52964382",
   "metadata": {},
   "outputs": [],
   "source": [
    "#3 variables\n",
    "pca_3=PCA(n_components=3)\n",
    "X_pca_3= pca_3.fit_transform(X)\n",
    "X_train3,X_test3,y_train3,y_test3=train_test_split(X_pca_3,y,test_size=0.2)\n",
    "y_train3=y_train3.to_numpy().reshape(len(X_train3)).astype(int)\n",
    "y_test3=y_test3.to_numpy().reshape(len(y_test3)).astype(int)"
   ]
  },
  {
   "cell_type": "code",
   "execution_count": 13,
   "id": "9c7df7ca",
   "metadata": {},
   "outputs": [],
   "source": [
    "#2 variables\n",
    "pca_2=PCA(n_components=2)\n",
    "X_pca_2=pca_2.fit_transform(X)\n",
    "X_train2,X_test2,y_train2,y_test2=train_test_split(X_pca_2,y,test_size=0.2)\n",
    "y_train2=y_train2.to_numpy().reshape(len(X_train2)).astype(int)\n",
    "y_test2=y_test2.to_numpy().reshape(len(y_test2)).astype(int)"
   ]
  },
  {
   "cell_type": "markdown",
   "id": "18308842",
   "metadata": {},
   "source": [
    "### Entrenamiento de un modelo inicial"
   ]
  },
  {
   "cell_type": "markdown",
   "id": "45039eac",
   "metadata": {},
   "source": [
    "Se trata de un modelo de clasificación de aprendizaje supervisado, luego vamos a probar unos cuantos algoritmos para que veamos cual optimizar y el número de variables a utilizar "
   ]
  },
  {
   "cell_type": "markdown",
   "id": "7b3122e7",
   "metadata": {},
   "source": [
    "#### Logistic Regression"
   ]
  },
  {
   "cell_type": "code",
   "execution_count": 14,
   "id": "702f389d",
   "metadata": {},
   "outputs": [
    {
     "name": "stdout",
     "output_type": "stream",
     "text": [
      "La precisión (accuracy) de la regresión logistica es 100.0%\n"
     ]
    }
   ],
   "source": [
    "model3 = LogisticRegression()\n",
    "model3.fit(X_train3,y_train3)\n",
    "prediction_logistic3 = model3.predict(X_test3)\n",
    "acc_log3 = round(accuracy_score(prediction_logistic3,y_test3) * 100,4)\n",
    "print('La precisión (accuracy) de la regresión logistica es {}%'.format(acc_log3))"
   ]
  },
  {
   "cell_type": "code",
   "execution_count": 15,
   "id": "81d1e31a",
   "metadata": {},
   "outputs": [
    {
     "name": "stdout",
     "output_type": "stream",
     "text": [
      "La precisión (accuracy) de la regresión logistica es 100.0%\n"
     ]
    }
   ],
   "source": [
    "model2 = LogisticRegression()\n",
    "model2.fit(X_train2,y_train2)\n",
    "prediction_logistic2 = model2.predict(X_test2)\n",
    "acc_log2 = round(accuracy_score(prediction_logistic2,y_test2) * 100, 4)\n",
    "print('La precisión (accuracy) de la regresión logistica es {}%'.format(acc_log2))"
   ]
  },
  {
   "cell_type": "markdown",
   "id": "bb0530c9",
   "metadata": {},
   "source": [
    "#### Decision Tree Classifier"
   ]
  },
  {
   "cell_type": "code",
   "execution_count": 16,
   "id": "3fa84ed1",
   "metadata": {},
   "outputs": [
    {
     "name": "stdout",
     "output_type": "stream",
     "text": [
      "La precisión (accuracy) del decision tree clasiffier es 93.3333%\n"
     ]
    }
   ],
   "source": [
    "model3 = DecisionTreeClassifier()\n",
    "model3.fit(X_train3, y_train3)\n",
    "prediction_tree3 = model3.predict(X_test3)\n",
    "acc_tree3 = round(accuracy_score(prediction_tree3,y_test3) * 100, 4)\n",
    "print('La precisión (accuracy) del decision tree clasiffier es {}%'.format(acc_tree3))"
   ]
  },
  {
   "cell_type": "code",
   "execution_count": 17,
   "id": "6215375b",
   "metadata": {},
   "outputs": [
    {
     "name": "stdout",
     "output_type": "stream",
     "text": [
      "La precisión (accuracy) del decision tree clasiffier es 96.6667%\n"
     ]
    }
   ],
   "source": [
    "model2 = DecisionTreeClassifier()\n",
    "model2.fit(X_train2, y_train2)\n",
    "prediction_tree2 = model2.predict(X_test2)\n",
    "acc_tree2 = round(accuracy_score(prediction_tree2,y_test2) * 100, 4)\n",
    "print('La precisión (accuracy) del decision tree clasiffier es {}%'.format(acc_tree2))"
   ]
  },
  {
   "cell_type": "markdown",
   "id": "bcbe5288",
   "metadata": {},
   "source": [
    "#### Support Vector Machine"
   ]
  },
  {
   "cell_type": "code",
   "execution_count": 18,
   "id": "f834fa32",
   "metadata": {},
   "outputs": [
    {
     "name": "stdout",
     "output_type": "stream",
     "text": [
      "La precisión (accuracy) del SVC es 96.6667%\n"
     ]
    }
   ],
   "source": [
    "model3=SVC()\n",
    "model3.fit(X_train3,y_train3)\n",
    "prediction_svc3=model3.predict(X_test3)\n",
    "acc_svc3=round(accuracy_score(prediction_svc3,y_test3) * 100, 4)\n",
    "print('La precisión (accuracy) del SVC es {}%'.format(acc_svc3))"
   ]
  },
  {
   "cell_type": "code",
   "execution_count": 19,
   "id": "cfd89af5",
   "metadata": {},
   "outputs": [
    {
     "name": "stdout",
     "output_type": "stream",
     "text": [
      "La precisión (accuracy) del SVC es 100.0%\n"
     ]
    }
   ],
   "source": [
    "model2=SVC()\n",
    "model2.fit(X_train2,y_train2)\n",
    "prediction_svc2=model2.predict(X_test2)\n",
    "acc_svc2=round(accuracy_score(prediction_svc2,y_test2) * 100, 4)\n",
    "print('La precisión (accuracy) del SVC es {}%'.format(acc_svc2))"
   ]
  },
  {
   "cell_type": "markdown",
   "id": "dd3d7a8b",
   "metadata": {},
   "source": [
    "#### Gaussian Naive Bayes"
   ]
  },
  {
   "cell_type": "code",
   "execution_count": 20,
   "id": "be6c209f",
   "metadata": {},
   "outputs": [
    {
     "name": "stdout",
     "output_type": "stream",
     "text": [
      "La precisión (accuracy) de Gaussian Naive Bayes es 90.0%\n"
     ]
    }
   ],
   "source": [
    "model3=GaussianNB()\n",
    "model3.fit(X_train3,y_train3)\n",
    "prediction_gnb3=model3.predict(X_test3)\n",
    "acc_gnb3=round(accuracy_score(prediction_gnb3,y_test3) * 100, 4)\n",
    "print('La precisión (accuracy) de Gaussian Naive Bayes es {}%'.format(acc_gnb3))"
   ]
  },
  {
   "cell_type": "code",
   "execution_count": 21,
   "id": "0410e482",
   "metadata": {},
   "outputs": [
    {
     "name": "stdout",
     "output_type": "stream",
     "text": [
      "La precisión (accuracy) de Gaussian Naive Bayes es 90.0%\n"
     ]
    }
   ],
   "source": [
    "model2=GaussianNB()\n",
    "model2.fit(X_train2,y_train2)\n",
    "prediction_gnb2=model2.predict(X_test2)\n",
    "acc_gnb2=round(accuracy_score(prediction_gnb2,y_test2) * 100, 4)\n",
    "print('La precisión (accuracy) de Gaussian Naive Bayes es {}%'.format(acc_gnb2))"
   ]
  },
  {
   "cell_type": "markdown",
   "id": "783af267",
   "metadata": {},
   "source": [
    "#### Decisión"
   ]
  },
  {
   "cell_type": "markdown",
   "id": "5e9d5515",
   "metadata": {},
   "source": [
    "Hemos probado muchos algoritmos y he llegado a la conclusión de que lo más óptimo será utilizar dos componentes ya que obtenemos casi idénticos resultados con la ventaja de utilizar menos características. \n",
    "Por otro lado vamos a profundizar y optimizar nuestro algoritmo de Logistic Regression que hemos obtenido el mejor accuracy"
   ]
  },
  {
   "cell_type": "markdown",
   "id": "15e3c9e1",
   "metadata": {},
   "source": [
    "### Optimización del modelo"
   ]
  },
  {
   "cell_type": "code",
   "execution_count": 22,
   "id": "a5d4e280",
   "metadata": {},
   "outputs": [
    {
     "data": {
      "text/plain": [
       "GridSearchCV(cv=5, estimator=LogisticRegression(multi_class='ovr'),\n",
       "             param_grid=[{'C': [10.0, 0.1, 0.01, 0.001, 1e-05],\n",
       "                          'solver': ['liblinear', 'lbfgs']}])"
      ]
     },
     "execution_count": 22,
     "metadata": {},
     "output_type": "execute_result"
    }
   ],
   "source": [
    "#Vamos a intentar los valores óptimos de regularización y ver que algoritmo de optimización (solver) es mejor usar\n",
    "logistic=LogisticRegression(multi_class=\"ovr\")\n",
    "lambdas = [ 1e-1, 1e1, 1e2, 1e3,1e5]\n",
    "cs = [1/x for x in lambdas]\n",
    "solvers=[\"liblinear\",\"lbfgs\"]\n",
    "\n",
    "parametros=[{\"C\":cs,\"solver\":solvers}]\n",
    "n_folds=5\n",
    "\n",
    "grid=GridSearchCV(estimator=logistic,param_grid=parametros, cv=n_folds)\n",
    "\n",
    "grid.fit(X_train2,y_train2)"
   ]
  },
  {
   "cell_type": "code",
   "execution_count": 23,
   "id": "aac63ab5",
   "metadata": {},
   "outputs": [
    {
     "name": "stdout",
     "output_type": "stream",
     "text": [
      "Mejores parámetros {'C': 10.0, 'solver': 'lbfgs'}\n",
      "Ïndice del C válido 1\n",
      "Mejor modelo LogisticRegression(C=10.0, multi_class='ovr')\n"
     ]
    }
   ],
   "source": [
    "print(\"Mejores parámetros\", grid.best_params_)\n",
    "print(\"Ïndice del C válido\", grid.best_index_)\n",
    "print(\"Mejor modelo\", grid.best_estimator_)\n",
    "# Dicho esto, vamos a guardar el mejor modelo para trabajar con él\n",
    "best_model=grid.best_estimator_"
   ]
  },
  {
   "cell_type": "markdown",
   "id": "6264955e",
   "metadata": {},
   "source": [
    "### Evaluación sobre el subset de test"
   ]
  },
  {
   "cell_type": "markdown",
   "id": "1926b120",
   "metadata": {},
   "source": [
    "#### Mediante representación de residuos"
   ]
  },
  {
   "cell_type": "code",
   "execution_count": 24,
   "id": "622607ba",
   "metadata": {},
   "outputs": [
    {
     "name": "stdout",
     "output_type": "stream",
     "text": [
      "Precisión media: 1.00\n"
     ]
    },
    {
     "data": {
      "image/png": "[encoded data removed]",
      "text/plain": [
       "<Figure size 432x288 with 1 Axes>"
      ]
     },
     "metadata": {
      "needs_background": "light"
     },
     "output_type": "display_data"
    }
   ],
   "source": [
    "y_test_pred = best_model.predict(X_test2)\n",
    "\n",
    "#Accuracy\n",
    "mean_accuracy =r2_score(y_test2,y_test_pred)\n",
    "\n",
    "print('Precisión media: %.2f' % mean_accuracy)\n",
    "\n",
    "def residuos(y,y_pred):\n",
    "    diff=abs(y-y_pred)\n",
    "    return diff\n",
    "res = residuos(y_test2,y_test_pred)\n",
    "\n",
    "# Representamos gráficamente\n",
    "Xtest_res=np.arange(len(y_test2))\n",
    "plt.figure()\n",
    "plt.ylabel(\"Residuo\")\n",
    "plt.title(\"Residuos del conjunto de test\")\n",
    "\n",
    "plt.scatter(Xtest_res,res)\n",
    "\n",
    "plt.show()"
   ]
  },
  {
   "cell_type": "markdown",
   "id": "1b917e02",
   "metadata": {},
   "source": [
    "#### Mediante la matriz de confusión "
   ]
  },
  {
   "cell_type": "code",
   "execution_count": 25,
   "id": "95703281",
   "metadata": {},
   "outputs": [
    {
     "data": {
      "image/png": "[encoded data removed]",
      "text/plain": [
       "<Figure size 576x360 with 2 Axes>"
      ]
     },
     "metadata": {
      "needs_background": "light"
     },
     "output_type": "display_data"
    }
   ],
   "source": [
    "plt.rcParams['figure.figsize'] = 8, 5\n",
    "plot_confusion_matrix(best_model, X_test2,y_test2)\n",
    "\n",
    "plt.title('Iris Confusion Matrix (Logistic Regression)')\n",
    "plt.show()"
   ]
  },
  {
   "cell_type": "markdown",
   "id": "4d98f260",
   "metadata": {},
   "source": [
    "#### Mediante la matriz de correlación"
   ]
  },
  {
   "cell_type": "code",
   "execution_count": 26,
   "id": "549e5bab",
   "metadata": {},
   "outputs": [
    {
     "name": "stdout",
     "output_type": "stream",
     "text": [
      "              precision    recall  f1-score   support\n",
      "\n",
      "           0       1.00      1.00      1.00         8\n",
      "           1       1.00      1.00      1.00        11\n",
      "           2       1.00      1.00      1.00        11\n",
      "\n",
      "    accuracy                           1.00        30\n",
      "   macro avg       1.00      1.00      1.00        30\n",
      "weighted avg       1.00      1.00      1.00        30\n",
      "\n"
     ]
    }
   ],
   "source": [
    "report = classification_report(y_test2, y_test_pred)\n",
    "print(report)"
   ]
  },
  {
   "cell_type": "markdown",
   "id": "a1623d89",
   "metadata": {},
   "source": [
    "### Conclusión"
   ]
  },
  {
   "cell_type": "markdown",
   "id": "34014563",
   "metadata": {},
   "source": [
    "Hemos realizado un estudio acerca del dataset iris y hemos comprobado que no todas las caracterísitcas importan en referencia a sus pétalos y sépalos si no que cogiendos las dos características principales es suficiente. Además regularizamos el problema sacrificando algo de precisión pero asegurándonos no caer en desviación o varianza. "
   ]
  }
 ],
 "metadata": {
  "kernelspec": {
   "display_name": "Python 3",
   "language": "python",
   "name": "python3"
  },
  "language_info": {
   "codemirror_mode": {
    "name": "ipython",
    "version": 3
   },
   "file_extension": ".py",
   "mimetype": "text/x-python",
   "name": "python",
   "nbconvert_exporter": "python",
   "pygments_lexer": "ipython3",
   "version": "3.8.8"
  }
 },
 "nbformat": 4,
 "nbformat_minor": 5
}
