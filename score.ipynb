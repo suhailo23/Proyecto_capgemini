{
 "cells": [
  {
   "cell_type": "code",
   "execution_count": 51,
   "id": "85df2fb2",
   "metadata": {},
   "outputs": [
    {
     "name": "stdout",
     "output_type": "stream",
     "text": [
      "Test result:  {'result': [2, 1, 0, 0]}\n"
     ]
    }
   ],
   "source": [
    "import json\n",
    "import numpy as np\n",
    "from azureml.core.model import Model\n",
    "import joblib\n",
    "\n",
    "def init():\n",
    "    global model\n",
    "    model_path= Model.get_model_path(\n",
    "        model_name=\"iris_produccion_model.pkl\")\n",
    "    model = joblib.load(model_path)\n",
    "    \n",
    "def run(raw_data):\n",
    "    data= json.loads(raw_data)[\"data\"]\n",
    "    data=numpy.array(data)\n",
    "    result = model.predict(data)\n",
    "    return {\"result\":result.tolist()}\n",
    "\n",
    "init()\n",
    "test_row = '{\"data\":[[-43.61941652,   2.04453876],[  6.45467613,   1.15205667], [39.58524735,  -1.48435607], [ 58.55935602,  -0.09698187]]}'\n",
    "\n",
    "prediction = run(test_row)\n",
    "print(\"Test result: \", prediction)\n"
   ]
  }
 ],
 "metadata": {
  "kernelspec": {
   "display_name": "Python 3",
   "language": "python",
   "name": "python3"
  },
  "language_info": {
   "codemirror_mode": {
    "name": "ipython",
    "version": 3
   },
   "file_extension": ".py",
   "mimetype": "text/x-python",
   "name": "python",
   "nbconvert_exporter": "python",
   "pygments_lexer": "ipython3",
   "version": "3.8.8"
  }
 },
 "nbformat": 4,
 "nbformat_minor": 5
}
